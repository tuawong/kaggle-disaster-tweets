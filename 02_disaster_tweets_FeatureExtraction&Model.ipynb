{
 "cells": [
  {
   "cell_type": "code",
   "execution_count": null,
   "metadata": {},
   "outputs": [],
   "source": [
    "import numpy as np \n",
    "import pandas as pd\n",
    "\n",
    "from pathlib import Path\n",
    "WORK_DIR = Path.cwd()\n",
    "DATA_DIR = Path.cwd()/'data'\n",
    "OUT_DIR = Path.cwd()/'output'\n",
    "\n",
    "from sklearn.base import BaseEstimator, TransformerMixin, clone\n",
    "from sklearn.preprocessing import FunctionTransformer, StandardScaler\n",
    "from sklearn.feature_extraction.text import CountVectorizer, TfidfVectorizer\n",
    "from sklearn.metrics import confusion_matrix\n",
    "from sklearn.model_selection import train_test_split \n",
    "from sklearn.linear_model import LogisticRegression\n",
    "from sklearn.pipeline import Pipeline\n",
    "from sklearn.cluster import KMeans\n",
    "from sklearn.decomposition import PCA\n",
    "from sklearn.model_selection import GridSearchCV\n",
    "\n",
    "from xgboost import XGBClassifier\n",
    "\n",
    "from copy import deepcopy\n",
    "\n",
    "import spacy\n",
    "import nltk\n",
    "from nltk.stem.snowball import SnowballStemmer\n",
    "\n",
    "import warnings\n",
    "warnings.filterwarnings(\"ignore\")"
   ]
  },
  {
   "cell_type": "markdown",
   "metadata": {},
   "source": [
    "## Loading Cleaned Data"
   ]
  },
  {
   "cell_type": "code",
   "execution_count": null,
   "metadata": {},
   "outputs": [],
   "source": [
    "train = pd.read_pickle(DATA_DIR/'interim/train.pkl').reset_index(drop=True)\n",
    "test = pd.read_pickle(DATA_DIR/'interim/test.pkl').reset_index(drop=True)"
   ]
  },
  {
   "cell_type": "code",
   "execution_count": null,
   "metadata": {},
   "outputs": [],
   "source": [
    "array = np.array(train)\n",
    "np.delete(array, [1,2,3,4,5], 1).shape"
   ]
  },
  {
   "cell_type": "code",
   "execution_count": null,
   "metadata": {},
   "outputs": [],
   "source": [
    "def generate_text_features_col(X, selected_col = 'text'):\n",
    "    df = X.copy()\n",
    "    df['length'] = train[selected_col].apply(lambda x: len(x))\n",
    "    df['word counts'] = train[selected_col].apply(lambda x: len(x.split(' ')))\n",
    "    df['capital'] = train[selected_col].apply(lambda x: sum(map(str.isupper, x)))\n",
    "    df['num_hashtags'] = train['hashtags'].apply(lambda x: len(x))\n",
    "    df['num_tags'] = train[selected_col].apply(lambda x: x.count('@'))\n",
    "\n",
    "    return df\n",
    "\n",
    "features_transformer = FunctionTransformer(generate_text_features_col, kw_args={\"selected_col\": 'text'})\n",
    "features_transformer.fit_transform(train)\n",
    "features_transformer.transform(train).head()"
   ]
  },
  {
   "cell_type": "code",
   "execution_count": null,
   "metadata": {},
   "outputs": [],
   "source": [
    "class OHE_Transformer(BaseEstimator, TransformerMixin): \n",
    "    def __init__(self, categories=None, col='keyword_processed', to_array=False):\n",
    "        self.categories = categories\n",
    "        self.col = col\n",
    "        self.to_array = to_array\n",
    "        \n",
    "    def fit(self, X, y=None):\n",
    "        self.categories = X.loc[:, self.col].unique()\n",
    "        return self\n",
    "\n",
    "    def transform(self, X):\n",
    "        ohe = pd.get_dummies(X[self.col],drop_first=True)\n",
    "        ohe = ohe.T.reindex(self.categories).T.fillna(0)\n",
    "        ohe.columns = ['kw_'+col for col in ohe.columns]\n",
    "        df = pd.concat([X, ohe], axis=1)\n",
    "\n",
    "        if self.to_array: \n",
    "            df = np.array(df)\n",
    "\n",
    "        return df\n",
    "\n",
    "ohe_kw = OHE_Transformer()\n",
    "ohe_kw.fit_transform(train)\n",
    "test_transform = ohe_kw.transform(test)"
   ]
  },
  {
   "cell_type": "code",
   "execution_count": null,
   "metadata": {},
   "outputs": [],
   "source": [
    "class Text_Vectorizer(BaseEstimator, TransformerMixin): \n",
    "    def __init__(self, col = 'text_processed', tfidf = False, **kwargs):\n",
    "        self.col = col\n",
    "        self.tfidf = tfidf\n",
    "        \n",
    "        if self.tfidf:\n",
    "            self.vectorizer = TfidfVectorizer(**kwargs)\n",
    "        else:\n",
    "            self.vectorizer = CountVectorizer(**kwargs)\n",
    "                \n",
    "    def fit(self, X, y=None):\n",
    "        self.vectorizer.fit(X[self.col])\n",
    "        self.vocab = self.vectorizer.get_feature_names()\n",
    "        return self\n",
    "\n",
    "    def transform(self, X):\n",
    "        if self.tfidf:\n",
    "            vectorizer = TfidfVectorizer(vocabulary = self.vocab)\n",
    "        else:\n",
    "            vectorizer = CountVectorizer(vocabulary = self.vocab)\n",
    "        words = vectorizer.fit_transform(X[self.col]).toarray()\n",
    "        words_df = pd.DataFrame(words, \n",
    "                                columns=['body_'+col for col in vectorizer.get_feature_names()],\n",
    "                                index=X.index)\n",
    "\n",
    "        merged = pd.concat([X, words_df], axis=1)\n",
    "        return merged\n"
   ]
  },
  {
   "cell_type": "code",
   "execution_count": null,
   "metadata": {},
   "outputs": [],
   "source": [
    "def select_features(X, selected_cols = None, to_array=False):\n",
    "    df = X.copy()\n",
    "    if selected_cols is None: \n",
    "        selected_cols = df.columns\n",
    "        \n",
    "    initial_cols = ['id', 'keyword', 'location', 'text', 'target', 'keyword_processed',\n",
    "                    'text_processed', 'hashtags']\n",
    "    select_cols = [col for col in selected_cols if col not in initial_cols]\n",
    "    df = df[select_cols]\n",
    "    \n",
    "    if to_array:\n",
    "        df = np.array(df)\n",
    "\n",
    "    return df\n",
    "\n",
    "feature_selector = FunctionTransformer(select_features, kw_args={\"to_array\": False})\n",
    "feature_selector.fit_transform(train)\n",
    "feature_selector.transform(test_transform)"
   ]
  },
  {
   "cell_type": "code",
   "execution_count": null,
   "metadata": {},
   "outputs": [],
   "source": [
    "class WordVector(BaseEstimator, TransformerMixin): \n",
    "    def __init__(self, selected_columns = 'text_processed', spacy_ver = None, num_components=None):\n",
    "        self.col = selected_columns\n",
    "        self.spacy = spacy_ver\n",
    "        self.pca = None \n",
    "        self.num_components = num_components \n",
    "\n",
    "        if self.spacy is None:\n",
    "            nlp = spacy.load('en_core_web_sm')\n",
    "            self.spacy = nlp\n",
    "                \n",
    "    def fit(self, X, y=None):\n",
    "        self.pca = None\n",
    "        return self\n",
    "\n",
    "    def transform(self, X):\n",
    "        text_vector = train['text_processed'].apply(lambda x: nlp(x).vector)\n",
    "        array = np.array([list(arr) for arr in list(text_vector)])\n",
    "        \n",
    "        if self.num_components is not None: \n",
    "            if self.pca is not None: \n",
    "                pca = self.pca \n",
    "                array = pca.transform(array)\n",
    "\n",
    "            else:\n",
    "                pca = PCA(n_components=self.num_components)\n",
    "                array = pca.fit_transform(array)\n",
    "\n",
    "            self.pca = pca\n",
    "            self.explained_variance_ratio_ = pca.explained_variance_ratio_\n",
    "        \n",
    "        comp_df = pd.DataFrame(array, columns = [f'comp_{i+1}' for i in range(array.shape[1])])\n",
    "        merged = pd.concat([X, comp_df], axis=1)\n",
    "        return merged\n"
   ]
  },
  {
   "cell_type": "code",
   "execution_count": null,
   "metadata": {},
   "outputs": [],
   "source": [
    "nlp = spacy.load('en_core_web_sm')\n",
    "word_vec = WordVector(spacy_ver = nlp, num_components = 40)\n",
    "\n",
    "train_vec = word_vec.fit_transform(train)\n",
    "test_vec = word_vec.transform(test)"
   ]
  },
  {
   "cell_type": "code",
   "execution_count": null,
   "metadata": {},
   "outputs": [],
   "source": [
    "train_vec"
   ]
  },
  {
   "cell_type": "markdown",
   "metadata": {},
   "source": [
    "#### Building Pipeline"
   ]
  },
  {
   "cell_type": "code",
   "execution_count": 21,
   "metadata": {},
   "outputs": [],
   "source": [
    "X_train, X_test, y_train, y_test = train_test_split(train_vec.drop('target', axis=1), train_vec['target'], test_size=0.2, random_state=123)"
   ]
  },
  {
   "cell_type": "code",
   "execution_count": 29,
   "metadata": {},
   "outputs": [],
   "source": [
    "pipe = Pipeline([('extra_features', FunctionTransformer(generate_text_features_col, kw_args={\"selected_col\": 'text'})),\n",
    "                 ('ohe', OHE_Transformer()), \n",
    "                 ('vectorize1', Text_Vectorizer(min_df=40, tfidf = False, ngram_range=(1,1))),\n",
    "                 ('vectorize2', Text_Vectorizer(min_df=20, tfidf = False, ngram_range=(2,2))),\n",
    "                 ('feature_selector', FunctionTransformer(select_features, kw_args={\"to_array\": False})), \n",
    "                 ('standard_scaler', StandardScaler())])"
   ]
  },
  {
   "cell_type": "code",
   "execution_count": 31,
   "metadata": {},
   "outputs": [
    {
     "data": {
      "text/html": [
       "<div>\n",
       "<style scoped>\n",
       "    .dataframe tbody tr th:only-of-type {\n",
       "        vertical-align: middle;\n",
       "    }\n",
       "\n",
       "    .dataframe tbody tr th {\n",
       "        vertical-align: top;\n",
       "    }\n",
       "\n",
       "    .dataframe thead th {\n",
       "        text-align: right;\n",
       "    }\n",
       "</style>\n",
       "<table border=\"1\" class=\"dataframe\">\n",
       "  <thead>\n",
       "    <tr style=\"text-align: right;\">\n",
       "      <th></th>\n",
       "      <th>comp_1</th>\n",
       "      <th>comp_2</th>\n",
       "      <th>comp_3</th>\n",
       "      <th>comp_4</th>\n",
       "      <th>comp_5</th>\n",
       "      <th>comp_6</th>\n",
       "      <th>comp_7</th>\n",
       "      <th>comp_8</th>\n",
       "      <th>comp_9</th>\n",
       "      <th>comp_10</th>\n",
       "      <th>...</th>\n",
       "      <th>body_natural disaster</th>\n",
       "      <th>body_nuclear reactor</th>\n",
       "      <th>body_oil spill</th>\n",
       "      <th>body_severe thunderstorm</th>\n",
       "      <th>body_suicide bomber</th>\n",
       "      <th>body_suicide bombing</th>\n",
       "      <th>body_thunderstorm warning</th>\n",
       "      <th>body_video http</th>\n",
       "      <th>body_wild fire</th>\n",
       "      <th>body_youtube video</th>\n",
       "    </tr>\n",
       "  </thead>\n",
       "  <tbody>\n",
       "    <tr>\n",
       "      <th>5479</th>\n",
       "      <td>2.124644</td>\n",
       "      <td>0.598725</td>\n",
       "      <td>-0.719797</td>\n",
       "      <td>2.698898</td>\n",
       "      <td>0.004429</td>\n",
       "      <td>1.080855</td>\n",
       "      <td>-0.543080</td>\n",
       "      <td>0.218232</td>\n",
       "      <td>0.102338</td>\n",
       "      <td>-0.539745</td>\n",
       "      <td>...</td>\n",
       "      <td>0</td>\n",
       "      <td>0</td>\n",
       "      <td>0</td>\n",
       "      <td>0</td>\n",
       "      <td>0</td>\n",
       "      <td>0</td>\n",
       "      <td>0</td>\n",
       "      <td>0</td>\n",
       "      <td>0</td>\n",
       "      <td>0</td>\n",
       "    </tr>\n",
       "    <tr>\n",
       "      <th>4549</th>\n",
       "      <td>0.732337</td>\n",
       "      <td>-1.296282</td>\n",
       "      <td>-0.273792</td>\n",
       "      <td>1.347489</td>\n",
       "      <td>2.351415</td>\n",
       "      <td>1.198567</td>\n",
       "      <td>0.699633</td>\n",
       "      <td>0.457418</td>\n",
       "      <td>1.425775</td>\n",
       "      <td>0.210745</td>\n",
       "      <td>...</td>\n",
       "      <td>0</td>\n",
       "      <td>0</td>\n",
       "      <td>0</td>\n",
       "      <td>0</td>\n",
       "      <td>0</td>\n",
       "      <td>0</td>\n",
       "      <td>0</td>\n",
       "      <td>0</td>\n",
       "      <td>0</td>\n",
       "      <td>0</td>\n",
       "    </tr>\n",
       "    <tr>\n",
       "      <th>3680</th>\n",
       "      <td>-0.737927</td>\n",
       "      <td>0.785732</td>\n",
       "      <td>0.380723</td>\n",
       "      <td>-0.524462</td>\n",
       "      <td>-0.161547</td>\n",
       "      <td>-0.026673</td>\n",
       "      <td>-0.173554</td>\n",
       "      <td>-0.259402</td>\n",
       "      <td>0.126385</td>\n",
       "      <td>-0.159412</td>\n",
       "      <td>...</td>\n",
       "      <td>0</td>\n",
       "      <td>0</td>\n",
       "      <td>0</td>\n",
       "      <td>0</td>\n",
       "      <td>0</td>\n",
       "      <td>0</td>\n",
       "      <td>0</td>\n",
       "      <td>0</td>\n",
       "      <td>0</td>\n",
       "      <td>0</td>\n",
       "    </tr>\n",
       "    <tr>\n",
       "      <th>3029</th>\n",
       "      <td>-0.811675</td>\n",
       "      <td>0.204284</td>\n",
       "      <td>1.797013</td>\n",
       "      <td>0.075139</td>\n",
       "      <td>-0.424350</td>\n",
       "      <td>0.752930</td>\n",
       "      <td>-0.035612</td>\n",
       "      <td>-0.134654</td>\n",
       "      <td>0.633392</td>\n",
       "      <td>0.317118</td>\n",
       "      <td>...</td>\n",
       "      <td>0</td>\n",
       "      <td>0</td>\n",
       "      <td>0</td>\n",
       "      <td>0</td>\n",
       "      <td>0</td>\n",
       "      <td>0</td>\n",
       "      <td>0</td>\n",
       "      <td>0</td>\n",
       "      <td>0</td>\n",
       "      <td>0</td>\n",
       "    </tr>\n",
       "    <tr>\n",
       "      <th>4385</th>\n",
       "      <td>-1.195578</td>\n",
       "      <td>0.071383</td>\n",
       "      <td>0.286737</td>\n",
       "      <td>-0.227019</td>\n",
       "      <td>0.778967</td>\n",
       "      <td>-1.065972</td>\n",
       "      <td>-0.020321</td>\n",
       "      <td>0.447368</td>\n",
       "      <td>-0.041853</td>\n",
       "      <td>-0.356029</td>\n",
       "      <td>...</td>\n",
       "      <td>0</td>\n",
       "      <td>0</td>\n",
       "      <td>0</td>\n",
       "      <td>0</td>\n",
       "      <td>0</td>\n",
       "      <td>0</td>\n",
       "      <td>0</td>\n",
       "      <td>0</td>\n",
       "      <td>0</td>\n",
       "      <td>0</td>\n",
       "    </tr>\n",
       "    <tr>\n",
       "      <th>...</th>\n",
       "      <td>...</td>\n",
       "      <td>...</td>\n",
       "      <td>...</td>\n",
       "      <td>...</td>\n",
       "      <td>...</td>\n",
       "      <td>...</td>\n",
       "      <td>...</td>\n",
       "      <td>...</td>\n",
       "      <td>...</td>\n",
       "      <td>...</td>\n",
       "      <td>...</td>\n",
       "      <td>...</td>\n",
       "      <td>...</td>\n",
       "      <td>...</td>\n",
       "      <td>...</td>\n",
       "      <td>...</td>\n",
       "      <td>...</td>\n",
       "      <td>...</td>\n",
       "      <td>...</td>\n",
       "      <td>...</td>\n",
       "      <td>...</td>\n",
       "    </tr>\n",
       "    <tr>\n",
       "      <th>5218</th>\n",
       "      <td>0.438595</td>\n",
       "      <td>0.578679</td>\n",
       "      <td>0.059256</td>\n",
       "      <td>-0.204116</td>\n",
       "      <td>-0.189669</td>\n",
       "      <td>-0.404621</td>\n",
       "      <td>-0.256683</td>\n",
       "      <td>-0.028274</td>\n",
       "      <td>0.225497</td>\n",
       "      <td>-0.262714</td>\n",
       "      <td>...</td>\n",
       "      <td>0</td>\n",
       "      <td>0</td>\n",
       "      <td>0</td>\n",
       "      <td>0</td>\n",
       "      <td>0</td>\n",
       "      <td>0</td>\n",
       "      <td>0</td>\n",
       "      <td>0</td>\n",
       "      <td>0</td>\n",
       "      <td>0</td>\n",
       "    </tr>\n",
       "    <tr>\n",
       "      <th>4060</th>\n",
       "      <td>2.841407</td>\n",
       "      <td>0.553034</td>\n",
       "      <td>0.389060</td>\n",
       "      <td>-0.460227</td>\n",
       "      <td>-0.265364</td>\n",
       "      <td>0.470694</td>\n",
       "      <td>-0.255650</td>\n",
       "      <td>-0.723730</td>\n",
       "      <td>0.169113</td>\n",
       "      <td>-0.483741</td>\n",
       "      <td>...</td>\n",
       "      <td>0</td>\n",
       "      <td>0</td>\n",
       "      <td>0</td>\n",
       "      <td>0</td>\n",
       "      <td>0</td>\n",
       "      <td>0</td>\n",
       "      <td>0</td>\n",
       "      <td>0</td>\n",
       "      <td>0</td>\n",
       "      <td>0</td>\n",
       "    </tr>\n",
       "    <tr>\n",
       "      <th>1346</th>\n",
       "      <td>0.075576</td>\n",
       "      <td>-0.667410</td>\n",
       "      <td>0.711560</td>\n",
       "      <td>0.115935</td>\n",
       "      <td>-0.859448</td>\n",
       "      <td>-0.083471</td>\n",
       "      <td>0.075186</td>\n",
       "      <td>-0.260501</td>\n",
       "      <td>0.292661</td>\n",
       "      <td>-0.168390</td>\n",
       "      <td>...</td>\n",
       "      <td>0</td>\n",
       "      <td>0</td>\n",
       "      <td>0</td>\n",
       "      <td>0</td>\n",
       "      <td>0</td>\n",
       "      <td>0</td>\n",
       "      <td>0</td>\n",
       "      <td>0</td>\n",
       "      <td>0</td>\n",
       "      <td>0</td>\n",
       "    </tr>\n",
       "    <tr>\n",
       "      <th>3454</th>\n",
       "      <td>0.161683</td>\n",
       "      <td>-0.422568</td>\n",
       "      <td>0.738339</td>\n",
       "      <td>-0.552854</td>\n",
       "      <td>-0.362145</td>\n",
       "      <td>-0.152133</td>\n",
       "      <td>-0.052407</td>\n",
       "      <td>-0.197139</td>\n",
       "      <td>-0.256396</td>\n",
       "      <td>-0.070369</td>\n",
       "      <td>...</td>\n",
       "      <td>0</td>\n",
       "      <td>0</td>\n",
       "      <td>0</td>\n",
       "      <td>0</td>\n",
       "      <td>0</td>\n",
       "      <td>0</td>\n",
       "      <td>0</td>\n",
       "      <td>0</td>\n",
       "      <td>0</td>\n",
       "      <td>0</td>\n",
       "    </tr>\n",
       "    <tr>\n",
       "      <th>3582</th>\n",
       "      <td>0.488557</td>\n",
       "      <td>0.296347</td>\n",
       "      <td>-0.215394</td>\n",
       "      <td>-0.053373</td>\n",
       "      <td>-0.252420</td>\n",
       "      <td>0.151899</td>\n",
       "      <td>-0.560400</td>\n",
       "      <td>0.211011</td>\n",
       "      <td>-0.300833</td>\n",
       "      <td>0.136355</td>\n",
       "      <td>...</td>\n",
       "      <td>0</td>\n",
       "      <td>0</td>\n",
       "      <td>0</td>\n",
       "      <td>0</td>\n",
       "      <td>0</td>\n",
       "      <td>0</td>\n",
       "      <td>0</td>\n",
       "      <td>0</td>\n",
       "      <td>0</td>\n",
       "      <td>0</td>\n",
       "    </tr>\n",
       "  </tbody>\n",
       "</table>\n",
       "<p>5580 rows × 419 columns</p>\n",
       "</div>"
      ],
      "text/plain": [
       "        comp_1    comp_2    comp_3    comp_4    comp_5    comp_6    comp_7  \\\n",
       "5479  2.124644  0.598725 -0.719797  2.698898  0.004429  1.080855 -0.543080   \n",
       "4549  0.732337 -1.296282 -0.273792  1.347489  2.351415  1.198567  0.699633   \n",
       "3680 -0.737927  0.785732  0.380723 -0.524462 -0.161547 -0.026673 -0.173554   \n",
       "3029 -0.811675  0.204284  1.797013  0.075139 -0.424350  0.752930 -0.035612   \n",
       "4385 -1.195578  0.071383  0.286737 -0.227019  0.778967 -1.065972 -0.020321   \n",
       "...        ...       ...       ...       ...       ...       ...       ...   \n",
       "5218  0.438595  0.578679  0.059256 -0.204116 -0.189669 -0.404621 -0.256683   \n",
       "4060  2.841407  0.553034  0.389060 -0.460227 -0.265364  0.470694 -0.255650   \n",
       "1346  0.075576 -0.667410  0.711560  0.115935 -0.859448 -0.083471  0.075186   \n",
       "3454  0.161683 -0.422568  0.738339 -0.552854 -0.362145 -0.152133 -0.052407   \n",
       "3582  0.488557  0.296347 -0.215394 -0.053373 -0.252420  0.151899 -0.560400   \n",
       "\n",
       "        comp_8    comp_9   comp_10  ...  body_natural disaster  \\\n",
       "5479  0.218232  0.102338 -0.539745  ...                      0   \n",
       "4549  0.457418  1.425775  0.210745  ...                      0   \n",
       "3680 -0.259402  0.126385 -0.159412  ...                      0   \n",
       "3029 -0.134654  0.633392  0.317118  ...                      0   \n",
       "4385  0.447368 -0.041853 -0.356029  ...                      0   \n",
       "...        ...       ...       ...  ...                    ...   \n",
       "5218 -0.028274  0.225497 -0.262714  ...                      0   \n",
       "4060 -0.723730  0.169113 -0.483741  ...                      0   \n",
       "1346 -0.260501  0.292661 -0.168390  ...                      0   \n",
       "3454 -0.197139 -0.256396 -0.070369  ...                      0   \n",
       "3582  0.211011 -0.300833  0.136355  ...                      0   \n",
       "\n",
       "      body_nuclear reactor  body_oil spill  body_severe thunderstorm  \\\n",
       "5479                     0               0                         0   \n",
       "4549                     0               0                         0   \n",
       "3680                     0               0                         0   \n",
       "3029                     0               0                         0   \n",
       "4385                     0               0                         0   \n",
       "...                    ...             ...                       ...   \n",
       "5218                     0               0                         0   \n",
       "4060                     0               0                         0   \n",
       "1346                     0               0                         0   \n",
       "3454                     0               0                         0   \n",
       "3582                     0               0                         0   \n",
       "\n",
       "      body_suicide bomber  body_suicide bombing  body_thunderstorm warning  \\\n",
       "5479                    0                     0                          0   \n",
       "4549                    0                     0                          0   \n",
       "3680                    0                     0                          0   \n",
       "3029                    0                     0                          0   \n",
       "4385                    0                     0                          0   \n",
       "...                   ...                   ...                        ...   \n",
       "5218                    0                     0                          0   \n",
       "4060                    0                     0                          0   \n",
       "1346                    0                     0                          0   \n",
       "3454                    0                     0                          0   \n",
       "3582                    0                     0                          0   \n",
       "\n",
       "      body_video http  body_wild fire  body_youtube video  \n",
       "5479                0               0                   0  \n",
       "4549                0               0                   0  \n",
       "3680                0               0                   0  \n",
       "3029                0               0                   0  \n",
       "4385                0               0                   0  \n",
       "...               ...             ...                 ...  \n",
       "5218                0               0                   0  \n",
       "4060                0               0                   0  \n",
       "1346                0               0                   0  \n",
       "3454                0               0                   0  \n",
       "3582                0               0                   0  \n",
       "\n",
       "[5580 rows x 419 columns]"
      ]
     },
     "execution_count": 31,
     "metadata": {},
     "output_type": "execute_result"
    }
   ],
   "source": [
    "shortpipe= deepcopy(pipe)\n",
    "shortpipe.steps.pop(-1)\n",
    "shortpipe.fit_transform(X_train)"
   ]
  },
  {
   "cell_type": "markdown",
   "metadata": {},
   "source": [
    "## Model Training"
   ]
  },
  {
   "cell_type": "code",
   "execution_count": 24,
   "metadata": {},
   "outputs": [
    {
     "data": {
      "text/plain": [
       "0.7569892473118279"
      ]
     },
     "execution_count": 24,
     "metadata": {},
     "output_type": "execute_result"
    }
   ],
   "source": [
    "lr_pipe = deepcopy(pipe)\n",
    "lr_pipe.steps.append(['logistic',  LogisticRegression(penalty='l1', solver='liblinear')])\n",
    "lr_pipe.fit(X_train, y_train)\n",
    "lr_pipe.score(X_test, y_test)"
   ]
  },
  {
   "cell_type": "code",
   "execution_count": 25,
   "metadata": {},
   "outputs": [
    {
     "data": {
      "text/plain": [
       "0.8068100358422939"
      ]
     },
     "execution_count": 25,
     "metadata": {},
     "output_type": "execute_result"
    }
   ],
   "source": [
    "lr_pipe.score(X_train, y_train)"
   ]
  },
  {
   "cell_type": "code",
   "execution_count": 41,
   "metadata": {},
   "outputs": [
    {
     "data": {
      "text/plain": [
       "0.72831541218638"
      ]
     },
     "execution_count": 41,
     "metadata": {},
     "output_type": "execute_result"
    }
   ],
   "source": [
    "xg_pipe = deepcopy(pipe)\n",
    "xg_pipe.steps.append(['xgboost',  XGBClassifier(objective='binary:logistic', eval_metric ='error')])\n",
    "xg_pipe.fit(X_train, y_train)\n",
    "xg_pipe.score(X_test, y_test)"
   ]
  },
  {
   "cell_type": "code",
   "execution_count": 42,
   "metadata": {},
   "outputs": [
    {
     "data": {
      "text/plain": [
       "0.9657706093189964"
      ]
     },
     "execution_count": 42,
     "metadata": {},
     "output_type": "execute_result"
    }
   ],
   "source": [
    "xg_pipe.score(X_train, y_train)"
   ]
  },
  {
   "cell_type": "code",
   "execution_count": 34,
   "metadata": {},
   "outputs": [
    {
     "data": {
      "text/plain": [
       "XGBClassifier(base_score=0.5, booster='gbtree', colsample_bylevel=1,\n",
       "              colsample_bynode=1, colsample_bytree=1, eval_metric='error',\n",
       "              gamma=0.1, gpu_id=-1, importance_type='gain',\n",
       "              interaction_constraints='', learning_rate=0.300000012,\n",
       "              max_delta_step=0, max_depth=6, min_child_weight=1, missing=nan,\n",
       "              monotone_constraints='()', n_estimators=100, n_jobs=8,\n",
       "              num_parallel_tree=1, random_state=0, reg_alpha=0, reg_lambda=1,\n",
       "              scale_pos_weight=1, subsample=1, tree_method='exact',\n",
       "              validate_parameters=1, verbosity=None)"
      ]
     },
     "execution_count": 34,
     "metadata": {},
     "output_type": "execute_result"
    }
   ],
   "source": [
    "xgb = XGBClassifier(objective='binary:logistic', eval_metric ='error', gamma = 0.1)\n",
    "xgb.fit(X_train.iloc[:, 8:], y_train)"
   ]
  },
  {
   "cell_type": "code",
   "execution_count": 74,
   "metadata": {},
   "outputs": [],
   "source": [
    "xg_pipe = Pipeline([('extra_features', FunctionTransformer(generate_text_features_col, kw_args={\"selected_col\": 'text'})),\n",
    "                     ('ohe', OHE_Transformer()), \n",
    "                     ('vectorize1', Text_Vectorizer(min_df=40, tfidf = False, ngram_range=(1,1))),\n",
    "                     ('vectorize2', Text_Vectorizer(min_df=20, tfidf = False, ngram_range=(2,2))),\n",
    "                     ('feature_selector', FunctionTransformer(select_features, kw_args={\"to_array\": False})), \n",
    "                     ('standard_scaler', StandardScaler())])"
   ]
  },
  {
   "cell_type": "code",
   "execution_count": 75,
   "metadata": {},
   "outputs": [],
   "source": [
    "xg_params = {\"xgboost__learning_rate\"    : [0.10, 0.20, 0.30 ] }"
   ]
  },
  {
   "cell_type": "code",
   "execution_count": null,
   "metadata": {},
   "outputs": [
    {
     "name": "stdout",
     "output_type": "stream",
     "text": [
      "Fitting 3 folds for each of 3 candidates, totalling 9 fits\n"
     ]
    },
    {
     "name": "stderr",
     "output_type": "stream",
     "text": [
      "[Parallel(n_jobs=-1)]: Using backend LokyBackend with 8 concurrent workers.\n"
     ]
    }
   ],
   "source": [
    "xg_pipe.steps.append(['xgboost',  XGBClassifier(objective='binary:logistic', eval_metric ='error')])\n",
    "search = GridSearchCV(xg_pipe, xg_params, cv=3, n_jobs=-1, verbose=3)\n",
    "search.fit(X_train, y_train)"
   ]
  },
  {
   "cell_type": "code",
   "execution_count": 54,
   "metadata": {},
   "outputs": [
    {
     "data": {
      "text/plain": [
       "0.6591397849462366"
      ]
     },
     "execution_count": 54,
     "metadata": {},
     "output_type": "execute_result"
    }
   ],
   "source": [
    "search.best_score_"
   ]
  },
  {
   "cell_type": "code",
   "execution_count": 106,
   "metadata": {},
   "outputs": [
    {
     "ename": "ValueError",
     "evalue": "X has 379 features, but this StandardScaler is expecting 475 features as input.",
     "output_type": "error",
     "traceback": [
      "\u001b[1;31m---------------------------------------------------------------------------\u001b[0m",
      "\u001b[1;31mValueError\u001b[0m                                Traceback (most recent call last)",
      "\u001b[1;32m<ipython-input-106-0713cbae27f6>\u001b[0m in \u001b[0;36m<module>\u001b[1;34m\u001b[0m\n\u001b[1;32m----> 1\u001b[1;33m \u001b[0mpd\u001b[0m\u001b[1;33m.\u001b[0m\u001b[0mDataFrame\u001b[0m\u001b[1;33m(\u001b[0m\u001b[0mzip\u001b[0m\u001b[1;33m(\u001b[0m\u001b[0mtest\u001b[0m\u001b[1;33m.\u001b[0m\u001b[0mid\u001b[0m\u001b[1;33m,\u001b[0m \u001b[0mxg_pipe\u001b[0m\u001b[1;33m.\u001b[0m\u001b[0mpredict\u001b[0m\u001b[1;33m(\u001b[0m\u001b[0mtest\u001b[0m\u001b[1;33m)\u001b[0m\u001b[1;33m)\u001b[0m\u001b[1;33m,\u001b[0m \u001b[0mcolumns\u001b[0m\u001b[1;33m=\u001b[0m\u001b[1;33m[\u001b[0m\u001b[1;34m'id'\u001b[0m\u001b[1;33m,\u001b[0m \u001b[1;34m'target'\u001b[0m\u001b[1;33m]\u001b[0m\u001b[1;33m)\u001b[0m\u001b[1;33m.\u001b[0m\u001b[0mset_index\u001b[0m\u001b[1;33m(\u001b[0m\u001b[1;34m'id'\u001b[0m\u001b[1;33m)\u001b[0m\u001b[1;33m.\u001b[0m\u001b[0mto_csv\u001b[0m\u001b[1;33m(\u001b[0m\u001b[0mOUT_DIR\u001b[0m\u001b[1;33m/\u001b[0m\u001b[1;34m'xgboost_2.csv'\u001b[0m\u001b[1;33m)\u001b[0m\u001b[1;33m\u001b[0m\u001b[1;33m\u001b[0m\u001b[0m\n\u001b[0m",
      "\u001b[1;32m~\\anaconda3\\lib\\site-packages\\sklearn\\utils\\metaestimators.py\u001b[0m in \u001b[0;36m<lambda>\u001b[1;34m(*args, **kwargs)\u001b[0m\n\u001b[0;32m    117\u001b[0m \u001b[1;33m\u001b[0m\u001b[0m\n\u001b[0;32m    118\u001b[0m         \u001b[1;31m# lambda, but not partial, allows help() to work with update_wrapper\u001b[0m\u001b[1;33m\u001b[0m\u001b[1;33m\u001b[0m\u001b[1;33m\u001b[0m\u001b[0m\n\u001b[1;32m--> 119\u001b[1;33m         \u001b[0mout\u001b[0m \u001b[1;33m=\u001b[0m \u001b[1;32mlambda\u001b[0m \u001b[1;33m*\u001b[0m\u001b[0margs\u001b[0m\u001b[1;33m,\u001b[0m \u001b[1;33m**\u001b[0m\u001b[0mkwargs\u001b[0m\u001b[1;33m:\u001b[0m \u001b[0mself\u001b[0m\u001b[1;33m.\u001b[0m\u001b[0mfn\u001b[0m\u001b[1;33m(\u001b[0m\u001b[0mobj\u001b[0m\u001b[1;33m,\u001b[0m \u001b[1;33m*\u001b[0m\u001b[0margs\u001b[0m\u001b[1;33m,\u001b[0m \u001b[1;33m**\u001b[0m\u001b[0mkwargs\u001b[0m\u001b[1;33m)\u001b[0m\u001b[1;33m\u001b[0m\u001b[1;33m\u001b[0m\u001b[0m\n\u001b[0m\u001b[0;32m    120\u001b[0m         \u001b[1;31m# update the docstring of the returned function\u001b[0m\u001b[1;33m\u001b[0m\u001b[1;33m\u001b[0m\u001b[1;33m\u001b[0m\u001b[0m\n\u001b[0;32m    121\u001b[0m         \u001b[0mupdate_wrapper\u001b[0m\u001b[1;33m(\u001b[0m\u001b[0mout\u001b[0m\u001b[1;33m,\u001b[0m \u001b[0mself\u001b[0m\u001b[1;33m.\u001b[0m\u001b[0mfn\u001b[0m\u001b[1;33m)\u001b[0m\u001b[1;33m\u001b[0m\u001b[1;33m\u001b[0m\u001b[0m\n",
      "\u001b[1;32m~\\anaconda3\\lib\\site-packages\\sklearn\\pipeline.py\u001b[0m in \u001b[0;36mpredict\u001b[1;34m(self, X, **predict_params)\u001b[0m\n\u001b[0;32m    405\u001b[0m         \u001b[0mXt\u001b[0m \u001b[1;33m=\u001b[0m \u001b[0mX\u001b[0m\u001b[1;33m\u001b[0m\u001b[1;33m\u001b[0m\u001b[0m\n\u001b[0;32m    406\u001b[0m         \u001b[1;32mfor\u001b[0m \u001b[0m_\u001b[0m\u001b[1;33m,\u001b[0m \u001b[0mname\u001b[0m\u001b[1;33m,\u001b[0m \u001b[0mtransform\u001b[0m \u001b[1;32min\u001b[0m \u001b[0mself\u001b[0m\u001b[1;33m.\u001b[0m\u001b[0m_iter\u001b[0m\u001b[1;33m(\u001b[0m\u001b[0mwith_final\u001b[0m\u001b[1;33m=\u001b[0m\u001b[1;32mFalse\u001b[0m\u001b[1;33m)\u001b[0m\u001b[1;33m:\u001b[0m\u001b[1;33m\u001b[0m\u001b[1;33m\u001b[0m\u001b[0m\n\u001b[1;32m--> 407\u001b[1;33m             \u001b[0mXt\u001b[0m \u001b[1;33m=\u001b[0m \u001b[0mtransform\u001b[0m\u001b[1;33m.\u001b[0m\u001b[0mtransform\u001b[0m\u001b[1;33m(\u001b[0m\u001b[0mXt\u001b[0m\u001b[1;33m)\u001b[0m\u001b[1;33m\u001b[0m\u001b[1;33m\u001b[0m\u001b[0m\n\u001b[0m\u001b[0;32m    408\u001b[0m         \u001b[1;32mreturn\u001b[0m \u001b[0mself\u001b[0m\u001b[1;33m.\u001b[0m\u001b[0msteps\u001b[0m\u001b[1;33m[\u001b[0m\u001b[1;33m-\u001b[0m\u001b[1;36m1\u001b[0m\u001b[1;33m]\u001b[0m\u001b[1;33m[\u001b[0m\u001b[1;33m-\u001b[0m\u001b[1;36m1\u001b[0m\u001b[1;33m]\u001b[0m\u001b[1;33m.\u001b[0m\u001b[0mpredict\u001b[0m\u001b[1;33m(\u001b[0m\u001b[0mXt\u001b[0m\u001b[1;33m,\u001b[0m \u001b[1;33m**\u001b[0m\u001b[0mpredict_params\u001b[0m\u001b[1;33m)\u001b[0m\u001b[1;33m\u001b[0m\u001b[1;33m\u001b[0m\u001b[0m\n\u001b[0;32m    409\u001b[0m \u001b[1;33m\u001b[0m\u001b[0m\n",
      "\u001b[1;32m~\\anaconda3\\lib\\site-packages\\sklearn\\preprocessing\\_data.py\u001b[0m in \u001b[0;36mtransform\u001b[1;34m(self, X, copy)\u001b[0m\n\u001b[0;32m    789\u001b[0m \u001b[1;33m\u001b[0m\u001b[0m\n\u001b[0;32m    790\u001b[0m         \u001b[0mcopy\u001b[0m \u001b[1;33m=\u001b[0m \u001b[0mcopy\u001b[0m \u001b[1;32mif\u001b[0m \u001b[0mcopy\u001b[0m \u001b[1;32mis\u001b[0m \u001b[1;32mnot\u001b[0m \u001b[1;32mNone\u001b[0m \u001b[1;32melse\u001b[0m \u001b[0mself\u001b[0m\u001b[1;33m.\u001b[0m\u001b[0mcopy\u001b[0m\u001b[1;33m\u001b[0m\u001b[1;33m\u001b[0m\u001b[0m\n\u001b[1;32m--> 791\u001b[1;33m         X = self._validate_data(X, reset=False,\n\u001b[0m\u001b[0;32m    792\u001b[0m                                 \u001b[0maccept_sparse\u001b[0m\u001b[1;33m=\u001b[0m\u001b[1;34m'csr'\u001b[0m\u001b[1;33m,\u001b[0m \u001b[0mcopy\u001b[0m\u001b[1;33m=\u001b[0m\u001b[0mcopy\u001b[0m\u001b[1;33m,\u001b[0m\u001b[1;33m\u001b[0m\u001b[1;33m\u001b[0m\u001b[0m\n\u001b[0;32m    793\u001b[0m                                 \u001b[0mestimator\u001b[0m\u001b[1;33m=\u001b[0m\u001b[0mself\u001b[0m\u001b[1;33m,\u001b[0m \u001b[0mdtype\u001b[0m\u001b[1;33m=\u001b[0m\u001b[0mFLOAT_DTYPES\u001b[0m\u001b[1;33m,\u001b[0m\u001b[1;33m\u001b[0m\u001b[1;33m\u001b[0m\u001b[0m\n",
      "\u001b[1;32m~\\anaconda3\\lib\\site-packages\\sklearn\\base.py\u001b[0m in \u001b[0;36m_validate_data\u001b[1;34m(self, X, y, reset, validate_separately, **check_params)\u001b[0m\n\u001b[0;32m    434\u001b[0m \u001b[1;33m\u001b[0m\u001b[0m\n\u001b[0;32m    435\u001b[0m         \u001b[1;32mif\u001b[0m \u001b[0mcheck_params\u001b[0m\u001b[1;33m.\u001b[0m\u001b[0mget\u001b[0m\u001b[1;33m(\u001b[0m\u001b[1;34m'ensure_2d'\u001b[0m\u001b[1;33m,\u001b[0m \u001b[1;32mTrue\u001b[0m\u001b[1;33m)\u001b[0m\u001b[1;33m:\u001b[0m\u001b[1;33m\u001b[0m\u001b[1;33m\u001b[0m\u001b[0m\n\u001b[1;32m--> 436\u001b[1;33m             \u001b[0mself\u001b[0m\u001b[1;33m.\u001b[0m\u001b[0m_check_n_features\u001b[0m\u001b[1;33m(\u001b[0m\u001b[0mX\u001b[0m\u001b[1;33m,\u001b[0m \u001b[0mreset\u001b[0m\u001b[1;33m=\u001b[0m\u001b[0mreset\u001b[0m\u001b[1;33m)\u001b[0m\u001b[1;33m\u001b[0m\u001b[1;33m\u001b[0m\u001b[0m\n\u001b[0m\u001b[0;32m    437\u001b[0m \u001b[1;33m\u001b[0m\u001b[0m\n\u001b[0;32m    438\u001b[0m         \u001b[1;32mreturn\u001b[0m \u001b[0mout\u001b[0m\u001b[1;33m\u001b[0m\u001b[1;33m\u001b[0m\u001b[0m\n",
      "\u001b[1;32m~\\anaconda3\\lib\\site-packages\\sklearn\\base.py\u001b[0m in \u001b[0;36m_check_n_features\u001b[1;34m(self, X, reset)\u001b[0m\n\u001b[0;32m    375\u001b[0m                 )\n\u001b[0;32m    376\u001b[0m             \u001b[1;32mif\u001b[0m \u001b[0mn_features\u001b[0m \u001b[1;33m!=\u001b[0m \u001b[0mself\u001b[0m\u001b[1;33m.\u001b[0m\u001b[0mn_features_in_\u001b[0m\u001b[1;33m:\u001b[0m\u001b[1;33m\u001b[0m\u001b[1;33m\u001b[0m\u001b[0m\n\u001b[1;32m--> 377\u001b[1;33m                 raise ValueError(\n\u001b[0m\u001b[0;32m    378\u001b[0m                     \u001b[1;34m'X has {} features, but this {} is expecting {} features '\u001b[0m\u001b[1;33m\u001b[0m\u001b[1;33m\u001b[0m\u001b[0m\n\u001b[0;32m    379\u001b[0m                     'as input.'.format(n_features, self.__class__.__name__,\n",
      "\u001b[1;31mValueError\u001b[0m: X has 379 features, but this StandardScaler is expecting 475 features as input."
     ]
    }
   ],
   "source": [
    "pd.DataFrame(zip(test.id, xg_pipe.predict(test_vec)), columns=['id', 'target']).set_index('id').to_csv(OUT_DIR/'xgboost_2.csv')"
   ]
  },
  {
   "cell_type": "markdown",
   "metadata": {},
   "source": [
    "#### Gridsearch"
   ]
  },
  {
   "cell_type": "code",
   "execution_count": null,
   "metadata": {},
   "outputs": [],
   "source": [
    "param_grid = {\n",
    "    'pca__n_components': [5, 15, 30, 45, 64],\n",
    "    'logistic__C': np.logspace(-4, 4, 4),\n",
    "}"
   ]
  },
  {
   "cell_type": "markdown",
   "metadata": {},
   "source": [
    "## Model Evaluation"
   ]
  },
  {
   "cell_type": "code",
   "execution_count": 20,
   "metadata": {},
   "outputs": [
    {
     "data": {
      "text/plain": [
       "array([[0.84916865, 0.15083135],\n",
       "       [0.33815552, 0.66184448]])"
      ]
     },
     "execution_count": 20,
     "metadata": {},
     "output_type": "execute_result"
    }
   ],
   "source": [
    "confusion_matrix(y_test, lr_pipe.predict(X_test), normalize='true')"
   ]
  },
  {
   "cell_type": "code",
   "execution_count": null,
   "metadata": {},
   "outputs": [],
   "source": []
  },
  {
   "cell_type": "markdown",
   "metadata": {},
   "source": [
    "#### Shap Values"
   ]
  },
  {
   "cell_type": "code",
   "execution_count": 21,
   "metadata": {},
   "outputs": [
    {
     "data": {
      "text/plain": [
       "('standard_scaler', StandardScaler())"
      ]
     },
     "execution_count": 21,
     "metadata": {},
     "output_type": "execute_result"
    }
   ],
   "source": [
    "shortpipe= deepcopy(pipe)\n",
    "shortpipe.steps.pop(-1)"
   ]
  },
  {
   "cell_type": "code",
   "execution_count": 23,
   "metadata": {},
   "outputs": [],
   "source": [
    "import shap\n",
    "\n",
    "explainer = shap.Explainer(xg_pipe.steps[-1][-1])\n",
    "shap_values = explainer(shortpipe.fit_transform(X_train))"
   ]
  },
  {
   "cell_type": "code",
   "execution_count": 24,
   "metadata": {},
   "outputs": [
    {
     "data": {
      "image/png": "[encoded data removed]",
      "text/plain": [
       "<Figure size 576x468 with 1 Axes>"
      ]
     },
     "metadata": {},
     "output_type": "display_data"
    }
   ],
   "source": [
    "shap.plots.bar(shap_values)"
   ]
  },
  {
   "cell_type": "code",
   "execution_count": null,
   "metadata": {},
   "outputs": [],
   "source": []
  }
 ],
 "metadata": {
  "kernelspec": {
   "display_name": "Python 3",
   "language": "python",
   "name": "python3"
  },
  "language_info": {
   "codemirror_mode": {
    "name": "ipython",
    "version": 3
   },
   "file_extension": ".py",
   "mimetype": "text/x-python",
   "name": "python",
   "nbconvert_exporter": "python",
   "pygments_lexer": "ipython3",
   "version": "3.8.5"
  }
 },
 "nbformat": 4,
 "nbformat_minor": 4
}
